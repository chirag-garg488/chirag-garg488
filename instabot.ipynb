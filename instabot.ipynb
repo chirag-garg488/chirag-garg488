{
 "cells": [
  {
   "cell_type": "code",
   "execution_count": 1,
   "metadata": {},
   "outputs": [
    {
     "name": "stdin",
     "output_type": "stream",
     "text": [
      "Enter your Username  _chirag_garg_\n"
     ]
    }
   ],
   "source": [
    "\n",
    "from selenium import webdriver\n",
    "from selenium.webdriver.common.keys import Keys\n",
    "import selenium.common.exceptions\n",
    "import time\n",
    "import random\n",
    " \n",
    "# Login Credentials\n",
    "username = input('Enter your Username ') #_chirag_garg_\n",
    "password = 'Chirag@1215' #password\n",
    "url = 'https://instagram.com/khushipandey_15_' #+ input('Enter username of user whome you want to send message') #siyaa_7291 khushipandey_15_\n"
   ]
  },
  {
   "cell_type": "code",
   "execution_count": 2,
   "metadata": {},
   "outputs": [],
   "source": [
    "\n",
    "def path():\n",
    "        global chrome\n",
    "     \n",
    "        # starts a new chrome session \n",
    "        chrome = webdriver.Chrome() # Add path if required\n"
   ]
  },
  {
   "cell_type": "code",
   "execution_count": 3,
   "metadata": {},
   "outputs": [],
   "source": [
    "\n",
    "def url_name(url): \n",
    "      chrome.get(url)\n",
    "   \n",
    "  # adjust sleep if you want\n",
    "    #  time.sleep(4) \n"
   ]
  },
  {
   "cell_type": "code",
   "execution_count": 4,
   "metadata": {},
   "outputs": [],
   "source": [
    "\n",
    "def login(username, your_password):\n",
    "    log_but = chrome.find_element_by_class_name(\"L3NKy\") \n",
    "    time.sleep(2)\n",
    "    log_but.click()\n",
    "    time.sleep(4)\n",
    "     \n",
    "    # finds the username box \n",
    "    usern = chrome.find_element_by_name(\"username\")\n",
    "     \n",
    "    # sends the entered username \n",
    "    usern.send_keys(username)\n",
    " \n",
    "    # finds the password box \n",
    "    passw = chrome.find_element_by_name(\"password\")\n",
    " \n",
    "    # sends the entered password \n",
    "    passw.send_keys(your_password)\n",
    "     \n",
    "    # press enter after sending password\n",
    "    passw.send_keys(Keys.RETURN) \n",
    "    time.sleep(5.5)\n",
    "     \n",
    "    # Finding Not Now button\n",
    "    notk = chrome.find_element_by_class_name(\"yWX7d\")  \n",
    "    notk.click()\n",
    "    time.sleep(3)\n",
    "\n",
    " \n",
    " "
   ]
  },
  {
   "cell_type": "code",
   "execution_count": 9,
   "metadata": {},
   "outputs": [],
   "source": [
    "\n",
    "def send_message():\n",
    "   \n",
    "    # Find message button\n",
    "    message = chrome.find_element_by_class_name('_862NM ') \n",
    "    message.click()\n",
    "    time.sleep(4)\n",
    "    chrome.find_element_by_class_name('HoLwm ').click()\n",
    "    time.sleep(1)\n",
    "    for x in range(2701,3001):\n",
    "\n",
    "        mbox = chrome.find_element_by_tag_name('textarea')\n",
    "        mbox.send_keys(\"i love you sabkuch\\u2764\\ufe0f\\u2764\\ufe0f \"+str(x)  )#+str(x)\n",
    "        \n",
    "        mbox.send_keys(Keys.RETURN)\n",
    "    #time.sleep(1.2)\n",
    "#i love you \\u2764\\ufe0f \\u2764\\ufe0f  "
   ]
  },
  {
   "cell_type": "code",
   "execution_count": null,
   "metadata": {},
   "outputs": [],
   "source": [
    "\n",
    "\n",
    "\n",
    "\n",
    "\n",
    "\n",
    "\n",
    "\n",
    "\n",
    "\n",
    "\n",
    "\n",
    "\n",
    "\n",
    "\n",
    "\n",
    "\n",
    "\n",
    "\n",
    "path()\n",
    "time.sleep(1)\n",
    "url_name(url)\n",
    "login(username, password)\n",
    "send_message()\n",
    "chrome.close()\n"
   ]
  },
  {
   "cell_type": "code",
   "execution_count": 17,
   "metadata": {},
   "outputs": [],
   "source": [
    "import os\n",
    "from selenium import webdriver\n",
    "\n",
    "chromedriver = \"/usr/bin/chromedriver\"\n",
    "os.environ[\"webdriver.chrome.driver\"] = chromedriver\n",
    "driver = webdriver.Chrome(chromedriver)\n",
    "driver.get(\"http://stackoverflow.com\")\n",
    "driver.quit()"
   ]
  },
  {
   "cell_type": "raw",
   "metadata": {},
   "source": [
    "print(\"\\U0001f600\") \n",
    "  \n",
    "# grinning squinting face \n",
    "print(\"\\U0001F606\") \n",
    "  \n",
    "# rolling on the floor laughing \n",
    "print(\"\\u2764\\ufe0f\")"
   ]
  },
  {
   "cell_type": "code",
   "execution_count": 4,
   "metadata": {},
   "outputs": [
    {
     "name": "stdout",
     "output_type": "stream",
     "text": [
      ":emoji\n",
      "😆\n",
      "❤️\n"
     ]
    }
   ],
   "source": [
    "# grinning face \n",
    "print(\"\") \n",
    "  \n",
    "# grinning squinting face \n",
    "print(\"\\U0001F606\") \n",
    "  \n",
    "# rolling on the floor laughing \n",
    "print(\"\\u2764\\ufe0f\") \n"
   ]
  },
  {
   "cell_type": "code",
   "execution_count": null,
   "metadata": {},
   "outputs": [],
   "source": []
  }
 ],
 "metadata": {
  "kernelspec": {
   "display_name": "Python 3",
   "language": "python",
   "name": "python3"
  },
  "language_info": {
   "codemirror_mode": {
    "name": "ipython",
    "version": 3
   },
   "file_extension": ".py",
   "mimetype": "text/x-python",
   "name": "python",
   "nbconvert_exporter": "python",
   "pygments_lexer": "ipython3",
   "version": "3.6.9"
  }
 },
 "nbformat": 4,
 "nbformat_minor": 4
}
